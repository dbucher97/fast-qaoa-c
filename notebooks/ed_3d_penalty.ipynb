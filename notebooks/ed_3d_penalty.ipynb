{
 "cells": [
  {
   "cell_type": "code",
   "execution_count": 39,
   "id": "c2c8bd86-949c-4ef5-9aab-3dbe4ace843d",
   "metadata": {},
   "outputs": [],
   "source": [
    "from problems import Knapsack\n",
    "\n",
    "import numpy as np\n",
    "import matplotlib.pyplot as plt"
   ]
  },
  {
   "cell_type": "code",
   "execution_count": 129,
   "id": "42b2c879-1a06-45a4-8139-11fed5e73e04",
   "metadata": {},
   "outputs": [],
   "source": [
    "instance = Knapsack.get_instances()[6][11]"
   ]
  },
  {
   "cell_type": "code",
   "execution_count": 130,
   "id": "c812d4d3-aca5-4ae0-8e16-2beb8ce29904",
   "metadata": {},
   "outputs": [],
   "source": [
    "cost = instance.masked_cost().to_numpy()"
   ]
  },
  {
   "cell_type": "code",
   "execution_count": 131,
   "id": "40be72fe-764d-42b5-a1b3-8c50b0d94909",
   "metadata": {},
   "outputs": [],
   "source": [
    "a, b = instance.diagonalized()"
   ]
  },
  {
   "cell_type": "code",
   "execution_count": 132,
   "id": "76bfa810-b83a-4d22-ae15-770071894fe6",
   "metadata": {},
   "outputs": [],
   "source": [
    "cost2 = 1- (b > 0).to_numpy()"
   ]
  },
  {
   "cell_type": "code",
   "execution_count": 134,
   "id": "cf338142-66f7-41b4-b882-7fa226ffeff4",
   "metadata": {},
   "outputs": [],
   "source": [
    "X = np.array([[0.0, 1.0], [1.0, 0.0]])\n",
    "\n",
    "def single_x(n, i):\n",
    "    initial = np.eye(1 << i)\n",
    "    ret = np.kron(initial, X)\n",
    "    return np.kron(ret, np.eye(1 << (n - i - 1)))\n",
    "\n",
    "def build_x_hamiltonian(n):\n",
    "    ret = np.zeros((1 << n, 1 << n))\n",
    "    for i in range(n):\n",
    "        ret += single_x(n, i)\n",
    "    return ret"
   ]
  },
  {
   "cell_type": "code",
   "execution_count": 135,
   "id": "dbc5808a-9e93-4253-bcd7-e11a411596ad",
   "metadata": {},
   "outputs": [],
   "source": [
    "import scipy as sp"
   ]
  },
  {
   "cell_type": "code",
   "execution_count": 136,
   "id": "4e45f57b-cd5a-4f4f-a0b4-157e169f322e",
   "metadata": {},
   "outputs": [],
   "source": [
    "mixer = build_x_hamiltonian(6)\n",
    "\n",
    "smixer = sp.sparse.csr_matrix(mixer)\n",
    "scost1 = 4 * sp.sparse.diags([cost], [0])\n",
    "scost2 = 4 * sp.sparse.diags([cost2], [0])"
   ]
  },
  {
   "cell_type": "code",
   "execution_count": 137,
   "id": "7c88e6f2-ca84-47e1-b806-27445bb3e1fc",
   "metadata": {},
   "outputs": [],
   "source": [
    "def get_ham(a, b):\n",
    "    c = 1 - a - b\n",
    "    return c * smixer + a * scost1 + b * scost2"
   ]
  },
  {
   "cell_type": "code",
   "execution_count": 138,
   "id": "e3c575c6-dd03-4bc6-8c34-a4c55068bc5b",
   "metadata": {},
   "outputs": [],
   "source": [
    "def get_e0e1(a, b):\n",
    "    h = get_ham(a, b)\n",
    "    return sp.sparse.linalg.eigsh(h, k=2, return_eigenvectors=False, which=\"SA\")\n",
    "\n",
    "def get_gap(a, b):\n",
    "    a, b = get_e0e1(a, b)\n",
    "    return a - b"
   ]
  },
  {
   "cell_type": "code",
   "execution_count": 139,
   "id": "b18b73dc-b1d3-454c-8a65-5d189f88075f",
   "metadata": {},
   "outputs": [],
   "source": [
    "x = np.linspace(0, 1, 100)\n",
    "y = np.linspace(0, 1, 100)\n",
    "\n",
    "res = np.array([[get_gap(xi, yi) if xi + yi <= 1 else np.nan for xi in x] for yi in y ])"
   ]
  },
  {
   "cell_type": "code",
   "execution_count": 140,
   "id": "007bb3bb-b08d-41b8-a3dc-a7d19c5cbbfd",
   "metadata": {},
   "outputs": [
    {
     "data": {
      "text/plain": [
       "<matplotlib.image.AxesImage at 0x291884d50>"
      ]
     },
     "execution_count": 140,
     "metadata": {},
     "output_type": "execute_result"
    },
    {
     "data": {
      "image/png": "[encoded data removed]",
      "text/plain": [
       "<Figure size 640x480 with 1 Axes>"
      ]
     },
     "metadata": {},
     "output_type": "display_data"
    }
   ],
   "source": [
    "plt.imshow(res)"
   ]
  },
  {
   "cell_type": "code",
   "execution_count": null,
   "id": "b413f2e8-7b89-4135-a199-8ca46ff89ac8",
   "metadata": {},
   "outputs": [],
   "source": []
  },
  {
   "cell_type": "code",
   "execution_count": null,
   "id": "fa51ee00-8037-4576-8e18-12500f03d9c2",
   "metadata": {},
   "outputs": [],
   "source": []
  }
 ],
 "metadata": {
  "kernelspec": {
   "display_name": "Python 3 (ipykernel)",
   "language": "python",
   "name": "python3"
  },
  "language_info": {
   "codemirror_mode": {
    "name": "ipython",
    "version": 3
   },
   "file_extension": ".py",
   "mimetype": "text/x-python",
   "name": "python",
   "nbconvert_exporter": "python",
   "pygments_lexer": "ipython3",
   "version": "3.11.7"
  }
 },
 "nbformat": 4,
 "nbformat_minor": 5
}
