{
 "cells": [
  {
   "cell_type": "code",
   "execution_count": 1,
   "id": "55b456f6-f5be-457c-a7ac-ab7ff3880cb4",
   "metadata": {},
   "outputs": [],
   "source": [
    "from fastqaoa.ctypes.qaoa import qaoa\n",
    "from fastqaoa.ctypes.qpe_qaoa import qpe_qaoa\n",
    "\n",
    "from fastqaoa.indicator import get_indicator_interpolator, interpolate_diagonals\n",
    "\n",
    "from fastqaoa import Diagonals\n",
    "\n",
    "import numpy as np\n",
    "\n",
    "import matplotlib.pyplot as plt"
   ]
  },
  {
   "cell_type": "code",
   "execution_count": 2,
   "id": "3926c797-49e5-4917-8846-9ffcf093c0ff",
   "metadata": {},
   "outputs": [],
   "source": [
    "N = 6\n",
    "dg_a = np.random.randn(2 << N)\n",
    "constr_a = np.random.randn(2 << N)"
   ]
  },
  {
   "cell_type": "code",
   "execution_count": 3,
   "id": "9c114c55-3623-4a1c-b629-44846e41ffb7",
   "metadata": {},
   "outputs": [],
   "source": [
    "dg_constr_a = 2 * (constr_a >= 0) - 1"
   ]
  },
  {
   "cell_type": "code",
   "execution_count": 4,
   "id": "4ce079c9-344a-4da9-82e2-f8315695c837",
   "metadata": {},
   "outputs": [],
   "source": [
    "dg = Diagonals.from_numpy(dg_a)\n",
    "dg_constr = Diagonals.from_numpy(dg_constr_a)\n",
    "constr = Diagonals.from_numpy(constr_a)"
   ]
  },
  {
   "cell_type": "code",
   "execution_count": 5,
   "id": "1ce62d39-8277-4a2e-86f7-e0fec65cebe7",
   "metadata": {},
   "outputs": [],
   "source": [
    "dg_masked = dg.mask(constr, 0, Diagonals.GTE)"
   ]
  },
  {
   "cell_type": "code",
   "execution_count": 6,
   "id": "57f0b29d-40e0-4d04-b2a6-5d7f7ddc375d",
   "metadata": {},
   "outputs": [
    {
     "data": {
      "text/plain": [
       "0.039226329438262854"
      ]
     },
     "execution_count": 6,
     "metadata": {},
     "output_type": "execute_result"
    }
   ],
   "source": [
    "beta, gamma = 0.5, 0.5\n",
    "sv = qaoa(dg_masked, [beta], [gamma])\n",
    "dg.expec(sv)"
   ]
  },
  {
   "cell_type": "code",
   "execution_count": 7,
   "id": "ad89d222-fb48-476d-a04b-cfef97dc0ea2",
   "metadata": {},
   "outputs": [
    {
     "name": "stdout",
     "output_type": "stream",
     "text": [
      "1.0000000000000007\n",
      "0.039226329438262916\n"
     ]
    },
    {
     "data": {
      "text/plain": [
       "(0.9999999999999999+2.7755575615628914e-17j)"
      ]
     },
     "execution_count": 7,
     "metadata": {},
     "output_type": "execute_result"
    }
   ],
   "source": [
    "sv2, p = qpe_qaoa(dg, dg_constr, [beta], [gamma])\n",
    "print(p)\n",
    "\n",
    "print(dg.expec(sv2))\n",
    "\n",
    "sv2.to_numpy().conj().dot(sv.to_numpy())"
   ]
  },
  {
   "cell_type": "code",
   "execution_count": 8,
   "id": "06471ea1-45d9-485a-8a16-1be66f39d12a",
   "metadata": {},
   "outputs": [],
   "source": [
    "interp = get_indicator_interpolator(4, 4)\n",
    "\n",
    "dg2 = interpolate_diagonals(interp, constr.scale_between_sym())"
   ]
  },
  {
   "cell_type": "code",
   "execution_count": 9,
   "id": "8910641a-fade-4952-b0d5-6b955605ba5c",
   "metadata": {},
   "outputs": [
    {
     "name": "stdout",
     "output_type": "stream",
     "text": [
      "0.9907810811657798\n",
      "0.03197895237268604\n"
     ]
    },
    {
     "data": {
      "text/plain": [
       "(0.9962362294948619-0.0049636854513664536j)"
      ]
     },
     "execution_count": 9,
     "metadata": {},
     "output_type": "execute_result"
    }
   ],
   "source": [
    "sv3, p = qpe_qaoa(dg, dg2, [beta], [gamma])\n",
    "print(p)\n",
    "\n",
    "print(dg.expec(sv3))\n",
    "\n",
    "sv3.to_numpy().conj().dot(sv2.to_numpy())"
   ]
  },
  {
   "cell_type": "code",
   "execution_count": 10,
   "id": "6e7f5a25-6af5-4815-916e-653ffffc3aa7",
   "metadata": {},
   "outputs": [],
   "source": [
    "constr_a = np.arange(4) - 2"
   ]
  },
  {
   "cell_type": "code",
   "execution_count": 11,
   "id": "c98f1541-9e7a-436f-8a10-a5b2da8fc2b6",
   "metadata": {},
   "outputs": [],
   "source": [
    "constr = Diagonals.from_numpy(constr_a)"
   ]
  },
  {
   "cell_type": "code",
   "execution_count": 12,
   "id": "debfff54-8e5e-42ec-8958-b88e6f526109",
   "metadata": {},
   "outputs": [
    {
     "data": {
      "text/plain": [
       "array([-1, -1,  1,  1])"
      ]
     },
     "execution_count": 12,
     "metadata": {},
     "output_type": "execute_result"
    }
   ],
   "source": [
    "2 * (constr_a >= 0) - 1"
   ]
  },
  {
   "cell_type": "code",
   "execution_count": 13,
   "id": "9e3ee1bd-493c-44c0-884a-9f79a2ebd67b",
   "metadata": {},
   "outputs": [
    {
     "data": {
      "text/plain": [
       "array([-1., -1.,  1.,  1.])"
      ]
     },
     "execution_count": 13,
     "metadata": {},
     "output_type": "execute_result"
    }
   ],
   "source": [
    "interpolate_diagonals(interp, constr.scale_between_sym()).to_numpy()"
   ]
  },
  {
   "cell_type": "code",
   "execution_count": null,
   "id": "f9fc8b94-1589-4a0f-9325-6a68563b8478",
   "metadata": {},
   "outputs": [],
   "source": []
  },
  {
   "cell_type": "code",
   "execution_count": null,
   "id": "6c5d3df6-6fcb-4a26-b6af-6b24134806f4",
   "metadata": {},
   "outputs": [],
   "source": []
  },
  {
   "cell_type": "code",
   "execution_count": null,
   "id": "6af8ad86-b34e-4b15-a6be-3ea3e701de49",
   "metadata": {},
   "outputs": [],
   "source": []
  }
 ],
 "metadata": {
  "kernelspec": {
   "display_name": "Python 3 (ipykernel)",
   "language": "python",
   "name": "python3"
  },
  "language_info": {
   "codemirror_mode": {
    "name": "ipython",
    "version": 3
   },
   "file_extension": ".py",
   "mimetype": "text/x-python",
   "name": "python",
   "nbconvert_exporter": "python",
   "pygments_lexer": "ipython3",
   "version": "3.11.6"
  }
 },
 "nbformat": 4,
 "nbformat_minor": 5
}
