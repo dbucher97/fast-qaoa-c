{
 "cells": [
  {
   "cell_type": "code",
   "execution_count": 1,
   "id": "aac1ab42-1a5e-4dc4-8c18-670e2ee0da58",
   "metadata": {},
   "outputs": [],
   "source": [
    "from fastqaoa.ctypes.optimize import optimize_qaoa_lbfgs\n",
    "from fastqaoa.ctypes.qaoa import qaoa, grad_qaoa\n",
    "from fastqaoa.ctypes import Diagonals"
   ]
  },
  {
   "cell_type": "code",
   "execution_count": 2,
   "id": "58fd3b01-99a1-4c35-aa14-aa8482de542d",
   "metadata": {},
   "outputs": [],
   "source": [
    "import numpy as np"
   ]
  },
  {
   "cell_type": "code",
   "execution_count": 3,
   "id": "6cc01d5a-2a53-4deb-b0c9-741014d397dc",
   "metadata": {},
   "outputs": [],
   "source": [
    "x = np.ones(1024)\n",
    "x[0] = -1"
   ]
  },
  {
   "cell_type": "code",
   "execution_count": 4,
   "id": "654acd22-6b2c-4410-a087-756d86156ef4",
   "metadata": {},
   "outputs": [
    {
     "ename": "NameError",
     "evalue": "name 'xd' is not defined",
     "output_type": "error",
     "traceback": [
      "\u001b[0;31m---------------------------------------------------------------------------\u001b[0m",
      "\u001b[0;31mNameError\u001b[0m                                 Traceback (most recent call last)",
      "Cell \u001b[0;32mIn[4], line 1\u001b[0m\n\u001b[0;32m----> 1\u001b[0m optimize_qaoa_lbfgs(\u001b[38;5;241m5\u001b[39m \u001b[38;5;241m*\u001b[39m \u001b[43mxd\u001b[49m, xd, [\u001b[38;5;241m1.2\u001b[39m, \u001b[38;5;241m2.1\u001b[39m], [\u001b[38;5;241m2.1\u001b[39m, \u001b[38;5;241m2.2\u001b[39m])\n",
      "\u001b[0;31mNameError\u001b[0m: name 'xd' is not defined"
     ]
    }
   ],
   "source": [
    "optimize_qaoa_lbfgs(5 * xd, xd, [1.2, 2.1], [2.1, 2.2])"
   ]
  },
  {
   "cell_type": "code",
   "execution_count": null,
   "id": "105785f4-0302-409b-b98f-86ffaa59af17",
   "metadata": {},
   "outputs": [],
   "source": [
    "qaoa(xd, [0.2], [0.2]).to_numpy()"
   ]
  },
  {
   "cell_type": "code",
   "execution_count": null,
   "id": "612aa637-9ccf-4125-93f1-3f17216031dd",
   "metadata": {},
   "outputs": [],
   "source": [
    "grad_qaoa(xd, xd, [0.1], [0.1])"
   ]
  },
  {
   "cell_type": "code",
   "execution_count": null,
   "id": "233c71b7-1289-4345-87e1-c02f3120a518",
   "metadata": {},
   "outputs": [],
   "source": []
  }
 ],
 "metadata": {
  "kernelspec": {
   "display_name": "Python 3 (ipykernel)",
   "language": "python",
   "name": "python3"
  },
  "language_info": {
   "codemirror_mode": {
    "name": "ipython",
    "version": 3
   },
   "file_extension": ".py",
   "mimetype": "text/x-python",
   "name": "python",
   "nbconvert_exporter": "python",
   "pygments_lexer": "ipython3",
   "version": "3.9.18"
  }
 },
 "nbformat": 4,
 "nbformat_minor": 5
}
