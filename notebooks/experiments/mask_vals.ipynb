{
 "cells": [
  {
   "cell_type": "code",
   "execution_count": 30,
   "id": "8191a2fb-40fd-4aa3-8ba6-76e50bfbb0f1",
   "metadata": {},
   "outputs": [],
   "source": [
    "from problems import IntegerKnapsackPisinger, Knapsack, IntegerKnapsack\n",
    "from fastqaoa.ctypes.optimize import optimize_qaoa_lbfgs\n",
    "from fastqaoa.ctypes.qaoa import qaoa\n",
    "from fastqaoa.ctypes.metrics import Metrics\n",
    "from fastqaoa.ctypes import Diagonals\n",
    "\n",
    "import pandas as pd\n",
    "import seaborn as sns\n",
    "import matplotlib.pyplot as plt\n",
    "\n",
    "from concurrent.futures import ThreadPoolExecutor"
   ]
  },
  {
   "cell_type": "code",
   "execution_count": 31,
   "id": "7c6700ab-f92f-4edb-afe0-3f51940d1e8a",
   "metadata": {},
   "outputs": [],
   "source": [
    "N = 20\n",
    "instances = IntegerKnapsackPisinger.get_instances()[N]"
   ]
  },
  {
   "cell_type": "code",
   "execution_count": 32,
   "id": "aa7971e6-d5cc-4945-adf4-2d91257bc88c",
   "metadata": {},
   "outputs": [
    {
     "name": "stdout",
     "output_type": "stream",
     "text": [
      "0 0\n",
      "0 1\n",
      "0 2\n",
      "0 3\n",
      "0 4\n",
      "0 5\n",
      "1 0\n",
      "1 1\n",
      "1 2\n",
      "1 3\n",
      "1 4\n",
      "1 5\n",
      "2 0\n",
      "2 1\n",
      "2 2\n",
      "2 3\n",
      "2 4\n",
      "2 5\n",
      "3 0\n",
      "3 1\n",
      "3 2\n",
      "3 3\n",
      "3 4\n",
      "3 5\n",
      "4 0\n",
      "4 1\n",
      "4 2\n",
      "4 3\n",
      "4 4\n",
      "4 5\n",
      "5 0\n",
      "5 1\n",
      "5 2\n",
      "5 3\n",
      "5 4\n",
      "5 5\n",
      "6 0\n",
      "6 1\n",
      "6 2\n",
      "6 3\n",
      "6 4\n",
      "6 5\n",
      "7 0\n",
      "7 1\n",
      "7 2\n",
      "7 3\n",
      "7 4\n",
      "7 5\n"
     ]
    }
   ],
   "source": [
    "results = []\n",
    "\n",
    "# for i in range(16):\n",
    "def for_instance(x):\n",
    "    i, j = x\n",
    "    results = []\n",
    "    instance = instances[j * 100 + i]\n",
    "    print(i, j)\n",
    "    dg = [None, None, None, None]\n",
    "    \n",
    "    cost = instance.masked_cost()\n",
    "    \n",
    "    costs, weights = instance.diagonalized()\n",
    "    dg[1] = instance.masked_cost(1)\n",
    "    dg[2] = instance.masked_cost(-cost.min_val)\n",
    "    dg[0] = cost.scale_between_sym(N)\n",
    "    dg[1] = dg[1].scale_between_sym(N)\n",
    "    dg[2] = dg[2].scale_between_sym(N)\n",
    "    dg[3] = -costs.to_numpy() + 2 * cost.to_numpy()\n",
    "    dg[3] = Diagonals.from_numpy(dg[3]).scale_between_sym(N)\n",
    "    \n",
    "    for p in (1, 2, 4):\n",
    "        for hi, h in enumerate(dg):\n",
    "            res = optimize_qaoa_lbfgs(h, cost, [0.1] * p, [0.1] * p)\n",
    "            sv = qaoa(h, res.betas, res.gammas)\n",
    "            \n",
    "            results.append(Metrics.compute(sv, cost, weights).dump())\n",
    "            results[-1].update({\"diag\": hi, \"depth\": p, \"id\": i, \"type\": j})\n",
    "    instance.decache()\n",
    "    return results\n",
    "\n",
    "tpe = ThreadPoolExecutor(max_workers=4)\n",
    "\n",
    "runs = [(i, j) for i in range(8) for j in range(6)]\n",
    "for r in tpe.map(for_instance, runs):\n",
    "    results += r"
   ]
  },
  {
   "cell_type": "code",
   "execution_count": 33,
   "id": "74da255f-f11e-4fa8-9064-c2dff61cd96a",
   "metadata": {},
   "outputs": [],
   "source": [
    "df = pd.DataFrame(results)"
   ]
  },
  {
   "cell_type": "code",
   "execution_count": 39,
   "id": "450715fc-34b9-4980-ad7b-b78abba09f93",
   "metadata": {},
   "outputs": [
    {
     "data": {
      "image/png": "[encoded data removed]",
      "text/plain": [
       "<Figure size 640x480 with 1 Axes>"
      ]
     },
     "metadata": {},
     "output_type": "display_data"
    }
   ],
   "source": [
    "sns.boxplot(df, x=\"depth\", y=\"p_opt\", hue=\"diag\")\n",
    "plt.yscale(\"log\")"
   ]
  },
  {
   "cell_type": "code",
   "execution_count": null,
   "id": "06a5476a-fd2f-47be-8f04-2f98ca14fd68",
   "metadata": {},
   "outputs": [],
   "source": [
    "plt.hist(dg3.to_numpy(), bins=100)"
   ]
  },
  {
   "cell_type": "code",
   "execution_count": null,
   "id": "a15813b1-433a-49f2-8a0e-649f12c3517b",
   "metadata": {},
   "outputs": [],
   "source": [
    "ln(0.01)/ln(1 - 0.0001)"
   ]
  },
  {
   "cell_type": "code",
   "execution_count": 5,
   "id": "b5320eba-1c5e-4b98-9e98-9aaccfa9ca36",
   "metadata": {},
   "outputs": [
    {
     "name": "stdout",
     "output_type": "stream",
     "text": [
      "0.0\n",
      "[  0. -11.  -9. ...   0.   0.   0.]\n",
      "1\n",
      "[  0. -11.  -9. ...   1.   1.   1.]\n"
     ]
    }
   ],
   "source": [
    "print(instances[0].masked_cost().to_numpy())\n",
    "print(instances[0].masked_cost(mask_val=1).to_numpy())"
   ]
  },
  {
   "cell_type": "code",
   "execution_count": null,
   "id": "cdb190bd-1cd7-4206-97d2-e30803c7b867",
   "metadata": {},
   "outputs": [],
   "source": []
  }
 ],
 "metadata": {
  "kernelspec": {
   "display_name": "Python 3 (ipykernel)",
   "language": "python",
   "name": "python3"
  },
  "language_info": {
   "codemirror_mode": {
    "name": "ipython",
    "version": 3
   },
   "file_extension": ".py",
   "mimetype": "text/x-python",
   "name": "python",
   "nbconvert_exporter": "python",
   "pygments_lexer": "ipython3",
   "version": "3.9.18"
  }
 },
 "nbformat": 4,
 "nbformat_minor": 5
}
