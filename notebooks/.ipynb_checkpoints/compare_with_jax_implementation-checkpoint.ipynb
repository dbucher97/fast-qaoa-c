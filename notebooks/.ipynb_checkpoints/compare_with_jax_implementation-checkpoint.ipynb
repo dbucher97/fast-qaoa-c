{
 "cells": [
  {
   "cell_type": "code",
   "execution_count": 1,
   "id": "bc7b0e3b-e466-41f1-8248-43dff0076f07",
   "metadata": {
    "editable": true,
    "slideshow": {
     "slide_type": ""
    },
    "tags": []
   },
   "outputs": [],
   "source": [
    "import os\n",
    "\n",
    "os.chdir(\"..\")"
   ]
  },
  {
   "cell_type": "code",
   "execution_count": 2,
   "id": "8c5b6303-1b4a-470d-a138-aa4a52d4a999",
   "metadata": {},
   "outputs": [],
   "source": [
    "from problems import IntegerKnapsack\n",
    "\n",
    "from fastqaoa.ctypes import qaoa\n",
    "from fastqaoa.ctypes.optimize import optimize_qaoa_adam, optimize_qaoa_lbfgs\n",
    "from fastqaoa.params import interpolate\n",
    "import numpy as np"
   ]
  },
  {
   "cell_type": "code",
   "execution_count": 3,
   "id": "b178bc3f-93a6-444d-804f-3d7460f25e1e",
   "metadata": {},
   "outputs": [],
   "source": [
    "prb = IntegerKnapsack(weights=[36.0, 22.0, 41.0, 2.0, 18.0, 9.0], costs=[2.0, 20.0, 34.0, 18.0, 36.0, 40.0], max_capacity=60, id=-1, n_qubits=6)"
   ]
  },
  {
   "cell_type": "code",
   "execution_count": 4,
   "id": "995b3f57-83bb-4324-bbce-ca67e4ae6b6d",
   "metadata": {},
   "outputs": [],
   "source": [
    "mprb = IntegerKnapsack.get_instances()[6][0]"
   ]
  },
  {
   "cell_type": "code",
   "execution_count": 5,
   "id": "85b9dcf2-86d6-4922-91ae-ca13045d1479",
   "metadata": {},
   "outputs": [
    {
     "data": {
      "text/plain": [
       "IntegerKnapsack(id=0, n_qubits=6, max_capacity=60, weights=array([56, 46, 44, 39,  7, 31]), costs=array([11,  0, 53, 30, 30, 55]))"
      ]
     },
     "execution_count": 5,
     "metadata": {},
     "output_type": "execute_result"
    }
   ],
   "source": [
    "mprb"
   ]
  },
  {
   "cell_type": "code",
   "execution_count": 6,
   "id": "fc98fe22-2365-4df9-bd92-e45e2ea752f8",
   "metadata": {},
   "outputs": [
    {
     "data": {
      "text/plain": [
       "IntegerKnapsack(id=-1, n_qubits=6, max_capacity=60, weights=[36.0, 22.0, 41.0, 2.0, 18.0, 9.0], costs=[2.0, 20.0, 34.0, 18.0, 36.0, 40.0])"
      ]
     },
     "execution_count": 6,
     "metadata": {},
     "output_type": "execute_result"
    }
   ],
   "source": [
    "prb"
   ]
  },
  {
   "cell_type": "code",
   "execution_count": 7,
   "id": "4a88324d-b955-419e-80d6-1e9906a26866",
   "metadata": {},
   "outputs": [],
   "source": [
    "ks = IntegerKnapsack.get_instances()[6][1]"
   ]
  },
  {
   "cell_type": "code",
   "execution_count": 8,
   "id": "4e7ef82f-4c54-47d9-9f1d-c3a4c5f9fcd8",
   "metadata": {},
   "outputs": [
    {
     "data": {
      "text/plain": [
       "array([20, 36, 42,  1, 38, 17])"
      ]
     },
     "execution_count": 8,
     "metadata": {},
     "output_type": "execute_result"
    }
   ],
   "source": [
    "ks.costs"
   ]
  },
  {
   "cell_type": "code",
   "execution_count": 9,
   "id": "13a7d8a5-e50e-4f54-8390-d2ca509c27f6",
   "metadata": {},
   "outputs": [
    {
     "data": {
      "text/plain": [
       "array([27, 12,  1, 27,  2, 13])"
      ]
     },
     "execution_count": 9,
     "metadata": {},
     "output_type": "execute_result"
    }
   ],
   "source": [
    "ks.weights"
   ]
  },
  {
   "cell_type": "code",
   "execution_count": 10,
   "id": "bce0cf7a-bea7-4d74-8cd3-5812ad3b23e9",
   "metadata": {},
   "outputs": [],
   "source": [
    "costs, weights = ks.diagonalized()\n",
    "dg = costs.mask(weights, 0, weights.GTE)\n",
    "dg = np.pi * dg / abs(dg.min_val)"
   ]
  },
  {
   "cell_type": "code",
   "execution_count": 11,
   "id": "4c4cb9ae-5b48-4b18-b7d3-ea3180196e52",
   "metadata": {},
   "outputs": [],
   "source": [
    "def get_energy(betas, gammas):\n",
    "    res = qaoa.qaoa(dg, betas, gammas).to_numpy()\n",
    "    probs = np.abs(res) ** 2\n",
    "    # print(probs)\n",
    "    return probs.dot(dg.to_numpy())"
   ]
  },
  {
   "cell_type": "code",
   "execution_count": 12,
   "id": "6f2e365a-08fa-46ac-91d6-5cd848d21391",
   "metadata": {},
   "outputs": [
    {
     "data": {
      "text/plain": [
       "-1.3517930906703777"
      ]
     },
     "execution_count": 12,
     "metadata": {},
     "output_type": "execute_result"
    }
   ],
   "source": [
    "get_energy([1], [1])"
   ]
  },
  {
   "cell_type": "code",
   "execution_count": 13,
   "id": "5ab0365f-62bf-4c04-bd51-d6a329e8eb06",
   "metadata": {},
   "outputs": [
    {
     "data": {
      "text/plain": [
       "(-1.0358814624797508,\n",
       " array([0.26647513, 0.15225538]),\n",
       " array([-0.34220475,  0.09730403]))"
      ]
     },
     "execution_count": 13,
     "metadata": {},
     "output_type": "execute_result"
    }
   ],
   "source": [
    "qaoa.grad_qaoa(dg, dg, [1., 2.], [4., 5.])"
   ]
  },
  {
   "cell_type": "code",
   "execution_count": 34,
   "id": "0c0178e3-a4be-4353-87a1-6fb549ca54da",
   "metadata": {},
   "outputs": [],
   "source": [
    "res = optimize_qaoa_adam(dg, dg, [1], [1], maxiter=100, tol=1e-5)"
   ]
  },
  {
   "cell_type": "code",
   "execution_count": 35,
   "id": "eb25ad87-654b-492a-af19-5a26d1820e99",
   "metadata": {},
   "outputs": [
    {
     "name": "stdout",
     "output_type": "stream",
     "text": [
      "AdamResult(status=<AdamStatus.Converged: 0>, it=72, betas=array([0.3717691]), gammas=array([0.88782221]))\n"
     ]
    }
   ],
   "source": [
    "print(res)"
   ]
  },
  {
   "cell_type": "code",
   "execution_count": 28,
   "id": "3ae0acf3-0025-4195-879a-9c594fecef68",
   "metadata": {},
   "outputs": [],
   "source": [
    "params = interpolate(2, res.betas, res.gammas)"
   ]
  },
  {
   "cell_type": "code",
   "execution_count": 36,
   "id": "543ddfec-dbab-4de4-a629-a38ca318326c",
   "metadata": {},
   "outputs": [
    {
     "data": {
      "text/plain": [
       "(-1.8805424246864204,\n",
       " array([-0.11484361,  0.59247322]),\n",
       " array([-0.22579167, -0.97691352]))"
      ]
     },
     "execution_count": 36,
     "metadata": {},
     "output_type": "execute_result"
    }
   ],
   "source": [
    "qaoa.grad_qaoa(dg, dg, *params)"
   ]
  },
  {
   "cell_type": "code",
   "execution_count": null,
   "id": "59f86bbb-34cd-44e5-a4d8-38c9b6254495",
   "metadata": {},
   "outputs": [],
   "source": []
  },
  {
   "cell_type": "code",
   "execution_count": 40,
   "id": "0766c8fb-6c02-4803-b192-37adb5510e25",
   "metadata": {
    "editable": true,
    "slideshow": {
     "slide_type": ""
    },
    "tags": []
   },
   "outputs": [
    {
     "name": "stdout",
     "output_type": "stream",
     "text": [
      "LBFGSStatus.Success 10\n",
      "-1.8604799146132542\n",
      "LBFGSStatus.Success 17\n",
      "-2.5245033118100926\n",
      "LBFGSStatus.Success 22\n",
      "-2.795968498193006\n",
      "LBFGSStatus.Success 45\n",
      "-2.8599642475395326\n",
      "LBFGSStatus.Success 108\n",
      "-2.997709118925411\n",
      "LBFGSStatus.Success 155\n",
      "-3.0440008767926634\n",
      "LBFGSStatus.Success 216\n",
      "-3.0644149249682164\n",
      "LBFGSStatus.Success 236\n",
      "-3.0814441480415686\n",
      "LBFGSStatus.Success 356\n",
      "-3.0921371078487407\n",
      "LBFGSStatus.Success 404\n",
      "-3.0997899411035674\n",
      "LBFGSStatus.Success 705\n",
      "-3.1036620031689863\n",
      "LBFGSStatus.Success 113\n",
      "-2.508840865108156\n",
      "LBFGSStatus.Success 286\n",
      "-2.697431506936289\n",
      "LBFGSStatus.Success 581\n",
      "-2.8788054236391414\n",
      "LBFGSStatus.Success 548\n",
      "-2.900211710757989\n"
     ]
    }
   ],
   "source": [
    "params = [1], [1]\n",
    "for i in range(1, 16):\n",
    "    res = optimize_qaoa_adam(dg, dg, *params)\n",
    "    print(res.status, res.it)\n",
    "    print(get_energy(res.betas, res.gammas))\n",
    "    params = interpolate(i+1, res.betas, res.gammas)\n",
    "    # params = np.append(res.betas, 0), np.append(res.gammas, 0)"
   ]
  },
  {
   "cell_type": "code",
   "execution_count": null,
   "id": "b13df28c-f08b-4e10-9d82-86f32457bb96",
   "metadata": {},
   "outputs": [],
   "source": []
  }
 ],
 "metadata": {
  "kernelspec": {
   "display_name": "Python 3 (ipykernel)",
   "language": "python",
   "name": "python3"
  },
  "language_info": {
   "codemirror_mode": {
    "name": "ipython",
    "version": 3
   },
   "file_extension": ".py",
   "mimetype": "text/x-python",
   "name": "python",
   "nbconvert_exporter": "python",
   "pygments_lexer": "ipython3",
   "version": "3.9.18"
  }
 },
 "nbformat": 4,
 "nbformat_minor": 5
}
