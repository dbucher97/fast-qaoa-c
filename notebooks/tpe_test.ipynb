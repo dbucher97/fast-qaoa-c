{
 "cells": [
  {
   "cell_type": "code",
   "execution_count": 1,
   "id": "8b8ecc6d-ce9a-45ee-8da2-ca03c40ec8f8",
   "metadata": {},
   "outputs": [],
   "source": [
    "from concurrent.futures import ThreadPoolExecutor"
   ]
  },
  {
   "cell_type": "code",
   "execution_count": 2,
   "id": "32b966ba-676b-40d5-9656-92f7471c5e11",
   "metadata": {},
   "outputs": [],
   "source": [
    "tpe = ThreadPoolExecutor(max_workers=2)"
   ]
  },
  {
   "cell_type": "code",
   "execution_count": 4,
   "id": "13113ad3-070d-4765-971e-eaf271bc2b62",
   "metadata": {},
   "outputs": [],
   "source": [
    "import time\n",
    "\n",
    "def func(w):\n",
    "    time.sleep(w)\n",
    "    return w + 1\n",
    "\n",
    "ws = [0.1, 1, 0.1, 1, 0.1, 1, 0.1, 1]"
   ]
  },
  {
   "cell_type": "code",
   "execution_count": 11,
   "id": "9a7c3969-6416-4505-8d3a-aec86c577e48",
   "metadata": {},
   "outputs": [
    {
     "name": "stdout",
     "output_type": "stream",
     "text": [
      "<generator object Executor.map.<locals>.result_iterator at 0x110279120>\n",
      "<generator object Executor.map.<locals>.result_iterator at 0x110a45e40>\n",
      "<generator object Executor.map.<locals>.result_iterator at 0x110a45e40>\n"
     ]
    },
    {
     "name": "stderr",
     "output_type": "stream",
     "text": [
      "\n",
      "KeyboardInterrupt\n",
      "\n"
     ]
    }
   ],
   "source": [
    "%%timeit\n",
    "res = tpe.map(func, ws)\n",
    "\n",
    "print(res)\n",
    "rs = []\n",
    "for r in res:\n",
    "    rs.append(r)"
   ]
  },
  {
   "cell_type": "code",
   "execution_count": null,
   "id": "25bc5132-42be-4fb2-8327-269dd50cebc2",
   "metadata": {},
   "outputs": [],
   "source": []
  },
  {
   "cell_type": "code",
   "execution_count": null,
   "id": "c22516cd-138f-42cb-a749-703c1fafd2d2",
   "metadata": {},
   "outputs": [],
   "source": []
  }
 ],
 "metadata": {
  "kernelspec": {
   "display_name": "Python 3 (ipykernel)",
   "language": "python",
   "name": "python3"
  },
  "language_info": {
   "codemirror_mode": {
    "name": "ipython",
    "version": 3
   },
   "file_extension": ".py",
   "mimetype": "text/x-python",
   "name": "python",
   "nbconvert_exporter": "python",
   "pygments_lexer": "ipython3",
   "version": "3.9.18"
  }
 },
 "nbformat": 4,
 "nbformat_minor": 5
}
