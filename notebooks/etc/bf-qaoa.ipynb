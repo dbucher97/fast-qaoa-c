{
 "cells": [
  {
   "cell_type": "markdown",
   "id": "eff5013b-b6ff-49a3-8dac-f281bbcd545e",
   "metadata": {},
   "source": [
    "# "
   ]
  },
  {
   "cell_type": "code",
   "execution_count": 6,
   "id": "7a34b0b3-cad6-49a8-963d-3051dbf54713",
   "metadata": {},
   "outputs": [],
   "source": [
    "import qubovert as qv\n",
    "import networkx as nx\n",
    "from fastqaoa import Diagonals\n",
    "from fastqaoa.ctypes.qaoa import apply_diagonals, apply_rx\n",
    "from fastqaoa.ctypes.statevector import Statevector\n",
    "\n",
    "import numpy as np"
   ]
  },
  {
   "cell_type": "code",
   "execution_count": 7,
   "id": "0b64699f-8030-4fe1-9618-09d2a60f419c",
   "metadata": {},
   "outputs": [],
   "source": [
    "d_qubo = {\"(0, 5)\": \"0.5\", \"(0, 16)\": \"0.5\", \"(0, 15)\": \"0.5\", \"(1, 3)\": \"0.5\", \"(1, 12)\": \"0.5\", \"(1, 7)\": \"0.5\", \"(2, 8)\": \"0.5\", \"(2, 26)\": \"0.5\", \"(2, 10)\": \"0.5\", \"(3, 8)\": \"0.5\", \"(3, 23)\": \"0.5\", \"(4, 19)\": \"0.5\", \"(4, 22)\": \"0.5\", \"(4, 25)\": \"0.5\", \"(5, 19)\": \"0.5\", \"(5, 21)\": \"0.5\", \"(6, 11)\": \"0.5\", \"(6, 14)\": \"0.5\", \"(6, 7)\": \"0.5\", \"(7, 23)\": \"0.5\", \"(8, 19)\": \"0.5\", \"(9, 11)\": \"0.5\", \"(9, 17)\": \"0.5\", \"(9, 25)\": \"0.5\", \"(10, 21)\": \"0.5\", \"(10, 13)\": \"0.5\", \"(11, 20)\": \"0.5\", \"(12, 14)\": \"0.5\", \"(12, 26)\": \"0.5\", \"(13, 26)\": \"0.5\", \"(13, 16)\": \"0.5\", \"(14, 18)\": \"0.5\", \"(15, 21)\": \"0.5\", \"(15, 22)\": \"0.5\", \"(16, 17)\": \"0.5\", \"(17, 20)\": \"0.5\", \"(18, 24)\": \"0.5\", \"(18, 27)\": \"0.5\", \"(20, 24)\": \"0.5\", \"(22, 27)\": \"0.5\", \"(23, 25)\": \"0.5\", \"(24, 27)\": \"0.5\"}\n",
    "d_qubo = {eval(k): v for k, v in d_qubo.items()}"
   ]
  },
  {
   "cell_type": "code",
   "execution_count": 108,
   "id": "aeac9d11-6561-4867-a9ae-cf004c4bd750",
   "metadata": {},
   "outputs": [],
   "source": [
    "N = 24\n",
    "G = nx.random_regular_graph(5, N)\n",
    "quso = qv.QUSO()\n",
    "\n",
    "for e in G.edges:\n",
    "    quso[e] = 1\n",
    "\n",
    "dg = Diagonals.brute_force_qv(qv.utils.quso_to_qubo(quso))\n",
    "sv_init = Statevector.make_plus_state(N)"
   ]
  },
  {
   "cell_type": "code",
   "execution_count": 109,
   "id": "5d15f81c-c8d3-451e-a60c-3a0cff712bd8",
   "metadata": {},
   "outputs": [],
   "source": [
    "def get_expecs(sv: Statevector):\n",
    "    shape = (2,) * sv.n_qubits\n",
    "    p_reshape = np.abs(sv.to_numpy().reshape(shape)) ** 2\n",
    "    probs = [p_reshape.sum(axis=tuple(i for i in range(sv.n_qubits) if i != j))[1] for j in range(sv.n_qubits)]\n",
    "    return np.array(probs)\n",
    "\n",
    "ordering = np.argsort(dg.to_numpy())\n",
    "\n",
    "def get_expecs_biased(sv: Statevector, alpha: float, ordering: np.ndarray):\n",
    "    probs = np.abs(sv.to_numpy()) ** 2\n",
    "    invalid = np.cumsum(probs[ordering]) > alpha\n",
    "    if invalid[0]:\n",
    "        invalid[0] = False\n",
    "    probs[ordering[invalid]] = 0\n",
    "    probs /= np.sum(probs)\n",
    "\n",
    "    shape = (2,) * sv.n_qubits\n",
    "    p_reshape = probs.reshape(shape)\n",
    "    probs = [p_reshape.sum(axis=tuple(i for i in range(sv.n_qubits) if i != j))[1] for j in range(sv.n_qubits)]\n",
    "    return np.array(probs)\n",
    "\n",
    "def gen_expecs(exp: np.ndarray):\n",
    "    res = np.ones(1)\n",
    "    for e in exp:\n",
    "        res = np.kron(res, [1 - e, e])\n",
    "    return Statevector.from_numpy(np.sqrt(res).astype(np.complex128))"
   ]
  },
  {
   "cell_type": "code",
   "execution_count": 110,
   "id": "de719fa8-6162-454a-bb61-f8ce3e90f8b9",
   "metadata": {},
   "outputs": [
    {
     "name": "stdout",
     "output_type": "stream",
     "text": [
      "-0.006029193702138124\n",
      "-0.09156125052143589\n",
      "-0.8368786638057151\n",
      "-5.171401258196373\n",
      "-16.926384112493263\n",
      "-26.241212576959327\n",
      "-34.0\n"
     ]
    },
    {
     "name": "stderr",
     "output_type": "stream",
     "text": [
      "/var/folders/0y/wbcxhvy92xz19jsf8x4s17km0000gn/T/ipykernel_37452/1212652098.py:15: RuntimeWarning: invalid value encountered in divide\n",
      "  probs /= np.sum(probs)\n"
     ]
    },
    {
     "name": "stdout",
     "output_type": "stream",
     "text": [
      "nan\n",
      "nan\n",
      "nan\n"
     ]
    }
   ],
   "source": [
    "sv = sv_init\n",
    "for _ in range(10):\n",
    "    exp = get_expecs_biased(sv, 0.01, ordering)\n",
    "    sv = gen_expecs(exp)\n",
    "    print(dg.expec(sv))"
   ]
  },
  {
   "cell_type": "code",
   "execution_count": 83,
   "id": "969a06e0-820f-44e7-8913-72aa4d2871bf",
   "metadata": {},
   "outputs": [
    {
     "data": {
      "text/plain": [
       "array([0.1, 0.2, 0.5, 0.7])"
      ]
     },
     "execution_count": 83,
     "metadata": {},
     "output_type": "execute_result"
    }
   ],
   "source": [
    "expecs = [0.1, 0.2, 0.5, 0.7]\n",
    "\n",
    "get_expecs(gen_expecs(expecs))"
   ]
  },
  {
   "cell_type": "code",
   "execution_count": null,
   "id": "50b280a4-e285-4e3b-b30d-4d725e6b2966",
   "metadata": {},
   "outputs": [],
   "source": [
    "\n",
    "mpl_draw(rx.r(3, 3))"
   ]
  },
  {
   "cell_type": "code",
   "execution_count": null,
   "id": "ce5db424-b0c5-49bc-a738-43aa9e556b78",
   "metadata": {},
   "outputs": [],
   "source": [
    "g = rx.PyGraph()\n",
    "g.add_nodes_from(range(28))\n",
    "for k, v in d_qubo.items():\n",
    "    g.add_edge(*k, v)"
   ]
  },
  {
   "cell_type": "code",
   "execution_count": null,
   "id": "898fd98b-a385-402d-8537-4aa877df6ba3",
   "metadata": {},
   "outputs": [],
   "source": [
    "mpl_draw(g)"
   ]
  },
  {
   "cell_type": "code",
   "execution_count": 75,
   "id": "97c1c20c-1a82-4d5a-96ad-f991d6daeefe",
   "metadata": {},
   "outputs": [
    {
     "data": {
      "text/plain": [
       "-20.0"
      ]
     },
     "execution_count": 75,
     "metadata": {},
     "output_type": "execute_result"
    }
   ],
   "source": [
    "dg.min_val"
   ]
  },
  {
   "cell_type": "code",
   "execution_count": 111,
   "id": "d540c330-1f1e-43b8-a9b8-a769c2015325",
   "metadata": {},
   "outputs": [
    {
     "data": {
      "text/plain": [
       "-34.0"
      ]
     },
     "execution_count": 111,
     "metadata": {},
     "output_type": "execute_result"
    }
   ],
   "source": [
    "dg.min_val"
   ]
  },
  {
   "cell_type": "code",
   "execution_count": null,
   "id": "ad18d8b2-056e-4079-847f-b8256e8ed807",
   "metadata": {},
   "outputs": [],
   "source": []
  }
 ],
 "metadata": {
  "kernelspec": {
   "display_name": "Python 3 (ipykernel)",
   "language": "python",
   "name": "python3"
  },
  "language_info": {
   "codemirror_mode": {
    "name": "ipython",
    "version": 3
   },
   "file_extension": ".py",
   "mimetype": "text/x-python",
   "name": "python",
   "nbconvert_exporter": "python",
   "pygments_lexer": "ipython3",
   "version": "3.11.10"
  }
 },
 "nbformat": 4,
 "nbformat_minor": 5
}
