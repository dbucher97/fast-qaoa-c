{
 "cells": [
  {
   "cell_type": "code",
   "execution_count": 1,
   "id": "2888706d-1f71-4b3f-9432-5bcb79288e0c",
   "metadata": {},
   "outputs": [],
   "source": [
    "from fastqaoa.ctypes import Diagonals\n",
    "from fastqaoa.ctypes import Statevector\n",
    "from fastqaoa.ctypes.qaoa import qaoa, energy\n",
    "\n",
    "import numpy as np"
   ]
  },
  {
   "cell_type": "code",
   "execution_count": 2,
   "id": "6a33bb20-8a90-42c5-ad52-2ba205ca1014",
   "metadata": {},
   "outputs": [],
   "source": [
    "dg = Diagonals.from_numpy(np.array([1, 2, 3, 4]))"
   ]
  },
  {
   "cell_type": "code",
   "execution_count": 6,
   "id": "097ccc09-44ca-46bf-a5f4-749a1b4c620d",
   "metadata": {},
   "outputs": [
    {
     "data": {
      "text/plain": [
       "array([0, 0, 2, 1, 2, 3, 3, 2, 0, 2], dtype=uint32)"
      ]
     },
     "execution_count": 6,
     "metadata": {},
     "output_type": "execute_result"
    }
   ],
   "source": [
    "Statevector.make_plus_state(2).sample(10)"
   ]
  },
  {
   "cell_type": "code",
   "execution_count": 21,
   "id": "321c888d-5337-43c0-b731-2d5f08f709ff",
   "metadata": {},
   "outputs": [
    {
     "data": {
      "text/plain": [
       "1.68492964"
      ]
     },
     "execution_count": 21,
     "metadata": {},
     "output_type": "execute_result"
    }
   ],
   "source": [
    "dg.expec(qaoa(dg, [0.1, 0.3], [0.2, 0.5]).sample(100000000))"
   ]
  },
  {
   "cell_type": "code",
   "execution_count": 20,
   "id": "b612df92-3a23-4b11-9d92-f59c576a98d4",
   "metadata": {},
   "outputs": [
    {
     "data": {
      "text/plain": [
       "1.6849059291951831"
      ]
     },
     "execution_count": 20,
     "metadata": {},
     "output_type": "execute_result"
    }
   ],
   "source": [
    "energy(dg, dg, [0.1, 0.3], [0.2, 0.5])"
   ]
  },
  {
   "cell_type": "code",
   "execution_count": null,
   "id": "1ffc677b-22d0-4f70-a926-ea87f615472c",
   "metadata": {},
   "outputs": [],
   "source": []
  }
 ],
 "metadata": {
  "kernelspec": {
   "display_name": "Python 3 (ipykernel)",
   "language": "python",
   "name": "python3"
  },
  "language_info": {
   "codemirror_mode": {
    "name": "ipython",
    "version": 3
   },
   "file_extension": ".py",
   "mimetype": "text/x-python",
   "name": "python",
   "nbconvert_exporter": "python",
   "pygments_lexer": "ipython3",
   "version": "3.9.18"
  }
 },
 "nbformat": 4,
 "nbformat_minor": 5
}
