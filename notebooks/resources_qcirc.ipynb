{
 "cells": [
  {
   "cell_type": "code",
   "execution_count": 1,
   "id": "fc91c441-8084-4e37-b04f-663c2a4a72eb",
   "metadata": {},
   "outputs": [],
   "source": [
    "import pandas as pd\n",
    "import seaborn as sns\n",
    "import matplotlib.pyplot as plt\n",
    "import numpy as np\n",
    "\n",
    "import circuit_lengths as cl\n",
    "import qiskit_circuits as util\n",
    "\n",
    "from qiskit import QuantumCircuit\n",
    "from qiskit.circuit import Parameter\n",
    "from qiskit.synthesis.qft import synth_qft_full\n",
    "\n",
    "from qiskit_ibm_runtime import fake_provider\n",
    "\n",
    "from problems.integer_knapsack import IntegerKnapsack\n",
    "# from fastqaoa.utils import styling\n",
    "# styling.set_my_style()"
   ]
  },
  {
   "cell_type": "code",
   "execution_count": 2,
   "id": "a385e1f1-292d-463f-a51f-dc819b94165b",
   "metadata": {},
   "outputs": [],
   "source": [
    "instances = IntegerKnapsack.get_instances()\n",
    "\n",
    "penalty = \"Slack-QUBO\"\n",
    "qpe = \"IF-QAOA\"\n"
   ]
  },
  {
   "cell_type": "code",
   "execution_count": 3,
   "id": "54683419-2de2-4a8c-bd31-ebc29671563d",
   "metadata": {},
   "outputs": [
    {
     "data": {
      "text/plain": [
       "55"
      ]
     },
     "execution_count": 3,
     "metadata": {},
     "output_type": "execute_result"
    }
   ],
   "source": [
    "util.qpe_layer(instances[6][0]).depth()"
   ]
  },
  {
   "cell_type": "code",
   "execution_count": 13,
   "id": "1b0229e9-89ff-40d3-93a3-1264f8d9daa0",
   "metadata": {},
   "outputs": [
    {
     "data": {
      "text/plain": [
       "107"
      ]
     },
     "execution_count": 13,
     "metadata": {},
     "output_type": "execute_result"
    }
   ],
   "source": [
    "util.qpe_layer(instances[29][33], with_hp=False).depth()"
   ]
  },
  {
   "cell_type": "code",
   "execution_count": 14,
   "id": "2e30f52e-6e7b-4385-b5c0-393a09037316",
   "metadata": {},
   "outputs": [
    {
     "name": "stdout",
     "output_type": "stream",
     "text": [
      "qft=19\n",
      "phase=29\n",
      "cop=10\n"
     ]
    },
    {
     "data": {
      "text/plain": [
       "106"
      ]
     },
     "execution_count": 14,
     "metadata": {},
     "output_type": "execute_result"
    }
   ],
   "source": [
    "cl.layer_depth_qpe(instances[29][0])"
   ]
  },
  {
   "cell_type": "raw",
   "id": "e9f4920d-89ce-48e3-a3fb-9bf25a93e362",
   "metadata": {},
   "source": [
    "for N, instance_set in instances.items():\n",
    "    if N > 12: break\n",
    "    for instance in instance_set[:128]:\n",
    "        qc = util.penalty_layer(instance)\n",
    "        assert qc.depth() == cl.layer_depth_penalty(instance)"
   ]
  },
  {
   "cell_type": "code",
   "execution_count": 6,
   "id": "1b928832-8a30-4ffb-9898-5f61dbfdbf5a",
   "metadata": {},
   "outputs": [
    {
     "data": {
      "text/html": [
       "<pre style=\"word-wrap: normal;white-space: pre;background: #fff0;line-height: 1.1;font-family: &quot;Courier New&quot;,Courier,monospace\">     ┌───┐                                        \n",
       "q_0: ┤ H ├─■──────────────■───────────────────────\n",
       "     └───┘ │P(-π/2) ┌───┐ │                       \n",
       "q_1: ──────■────────┤ H ├─┼─────────■─────────────\n",
       "                    └───┘ │P(-π/4)  │P(-π/2) ┌───┐\n",
       "q_2: ─────────────────────■─────────■────────┤ H ├\n",
       "                                             └───┘</pre>"
      ],
      "text/plain": [
       "     ┌───┐                                        \n",
       "q_0: ┤ H ├─■──────────────■───────────────────────\n",
       "     └───┘ │P(-π/2) ┌───┐ │                       \n",
       "q_1: ──────■────────┤ H ├─┼─────────■─────────────\n",
       "                    └───┘ │P(-π/4)  │P(-π/2) ┌───┐\n",
       "q_2: ─────────────────────■─────────■────────┤ H ├\n",
       "                                             └───┘"
      ]
     },
     "execution_count": 6,
     "metadata": {},
     "output_type": "execute_result"
    }
   ],
   "source": [
    "synth_qft_full(3, do_swaps=False, inverse=True).draw()"
   ]
  },
  {
   "cell_type": "code",
   "execution_count": 7,
   "id": "d84ae2de-d4ce-47f6-83e9-5b5ca0d1d4cf",
   "metadata": {},
   "outputs": [],
   "source": [
    "ff = fake_provider.FakeFez"
   ]
  },
  {
   "cell_type": "code",
   "execution_count": 8,
   "id": "8b6ced4c-a936-4af5-b6eb-c6af97b29b13",
   "metadata": {},
   "outputs": [],
   "source": [
    "from rustworkx import generators\n"
   ]
  },
  {
   "cell_type": "code",
   "execution_count": 9,
   "id": "79675f85-d6e5-4b97-af26-4f05e05994d4",
   "metadata": {},
   "outputs": [
    {
     "ename": "AttributeError",
     "evalue": "'rustworkx.PyGraph' object has no attribute 'coup'",
     "output_type": "error",
     "traceback": [
      "\u001b[0;31m---------------------------------------------------------------------------\u001b[0m",
      "\u001b[0;31mAttributeError\u001b[0m                            Traceback (most recent call last)",
      "Cell \u001b[0;32mIn[9], line 2\u001b[0m\n\u001b[1;32m      1\u001b[0m g \u001b[38;5;241m=\u001b[39m generators\u001b[38;5;241m.\u001b[39mgrid_graph(\u001b[38;5;241m3\u001b[39m, \u001b[38;5;241m3\u001b[39m)\n\u001b[0;32m----> 2\u001b[0m \u001b[43mg\u001b[49m\u001b[38;5;241;43m.\u001b[39;49m\u001b[43mcoup\u001b[49m\n",
      "\u001b[0;31mAttributeError\u001b[0m: 'rustworkx.PyGraph' object has no attribute 'coup'"
     ]
    }
   ],
   "source": [
    "g = generators.grid_graph(3, 3)\n",
    "g.coup"
   ]
  },
  {
   "cell_type": "code",
   "execution_count": null,
   "id": "a9924898-88a2-4e8b-b037-2a1991b2e11c",
   "metadata": {},
   "outputs": [],
   "source": []
  }
 ],
 "metadata": {
  "kernelspec": {
   "display_name": "Python 3 (ipykernel)",
   "language": "python",
   "name": "python3"
  },
  "language_info": {
   "codemirror_mode": {
    "name": "ipython",
    "version": 3
   },
   "file_extension": ".py",
   "mimetype": "text/x-python",
   "name": "python",
   "nbconvert_exporter": "python",
   "pygments_lexer": "ipython3",
   "version": "3.11.10"
  }
 },
 "nbformat": 4,
 "nbformat_minor": 5
}
