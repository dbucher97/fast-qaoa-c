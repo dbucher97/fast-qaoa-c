{
 "cells": [
  {
   "cell_type": "code",
   "execution_count": 1,
   "id": "b611df22-95a1-45de-a30a-5dcc371cbddd",
   "metadata": {},
   "outputs": [],
   "source": [
    "import numpy as np\n",
    "\n",
    "import matplotlib.pyplot as plt\n",
    "\n",
    "import pandas as pd\n",
    "import seaborn as sns\n",
    "\n",
    "from problems import IntegerKnapsack\n",
    "\n",
    "from fastqaoa.optimize import optimize_interpolate\n",
    "from fastqaoa import qaoa, Metrics"
   ]
  },
  {
   "cell_type": "code",
   "execution_count": null,
   "id": "c0aac62f-1861-489c-b33a-70d417f9e175",
   "metadata": {},
   "outputs": [],
   "source": []
  },
  {
   "cell_type": "code",
   "execution_count": null,
   "id": "5576d017-93c8-483e-9ef5-a2abe348adbe",
   "metadata": {},
   "outputs": [],
   "source": []
  },
  {
   "cell_type": "code",
   "execution_count": 2,
   "id": "bfe6aace-66c9-4606-9c15-60c9275d3969",
   "metadata": {},
   "outputs": [],
   "source": [
    "def dg(v, ik):\n",
    "    if not hasattr(ik, \"_penalty\"):\n",
    "        ik.quad_penalty_cost()\n",
    "    max_penalty = max(ik.costs)\n",
    "    penalty = ik._penalty + v * (max_penalty - ik._penalty)\n",
    "    if v < 0:\n",
    "        penalty = (1 + v) * ik._penalty\n",
    "    return ik.quad_penalty_cost(penalty=penalty).scale_between_sym() * len(ik.weights)"
   ]
  },
  {
   "cell_type": "code",
   "execution_count": 12,
   "id": "c1727fcf-8996-42e3-8c42-6999464fd861",
   "metadata": {},
   "outputs": [],
   "source": [
    "pscale = [0, 1]\n",
    "\n",
    "data = []\n",
    "\n",
    "iks = IntegerKnapsack.get_instances()[8]\n",
    "\n",
    "for ik in iks[:64]:\n",
    "    for p in pscale:\n",
    "        cost = ik.masked_cost()\n",
    "        _, g = ik.diagonalized()\n",
    "        depths = [1, 2, 3, 4, 6, 8, 12, 16]\n",
    "        mdg = dg(p, ik)\n",
    "        res = optimize_interpolate(mdg, cost, depths=depths)\n",
    "        \n",
    "        sv = qaoa(mdg, res[depths[-1]].betas, res[depths[-1]].gammas)\n",
    "        metr = Metrics.compute(sv, cost, g).dump()\n",
    "    \n",
    "        data.append({\"pscale\": p, \"problem_id\": ik.id, **metr})\n",
    "\n",
    "df = pd.DataFrame(data)"
   ]
  },
  {
   "cell_type": "code",
   "execution_count": 13,
   "id": "d09ffded-ca85-4be5-8e0c-ae0774db892e",
   "metadata": {},
   "outputs": [
    {
     "data": {
      "text/plain": [
       "<Axes: xlabel='pscale', ylabel='p_opt'>"
      ]
     },
     "execution_count": 13,
     "metadata": {},
     "output_type": "execute_result"
    },
    {
     "data": {
      "image/png": "[encoded data removed]",
      "text/plain": [
       "<Figure size 640x480 with 1 Axes>"
      ]
     },
     "metadata": {},
     "output_type": "display_data"
    }
   ],
   "source": [
    "sns.boxplot(df, x=\"pscale\", y=\"p_opt\", log_scale=True)#, estimator=\"median\", errorbar=(\"pi\", 50), marker=\"o\", err_style=\"bars\")\n",
    "# plt.yscale(\"log\")"
   ]
  },
  {
   "cell_type": "code",
   "execution_count": null,
   "id": "b6a1a70a-1535-4d47-b5a5-742250426087",
   "metadata": {},
   "outputs": [],
   "source": [
    "dg(-4, iks[1]).min_val"
   ]
  },
  {
   "cell_type": "code",
   "execution_count": null,
   "id": "8f3f042a-061c-491e-9e2a-c750cb3f66a7",
   "metadata": {},
   "outputs": [],
   "source": []
  }
 ],
 "metadata": {
  "kernelspec": {
   "display_name": "Python 3 (ipykernel)",
   "language": "python",
   "name": "python3"
  },
  "language_info": {
   "codemirror_mode": {
    "name": "ipython",
    "version": 3
   },
   "file_extension": ".py",
   "mimetype": "text/x-python",
   "name": "python",
   "nbconvert_exporter": "python",
   "pygments_lexer": "ipython3",
   "version": "3.11.10"
  }
 },
 "nbformat": 4,
 "nbformat_minor": 5
}
