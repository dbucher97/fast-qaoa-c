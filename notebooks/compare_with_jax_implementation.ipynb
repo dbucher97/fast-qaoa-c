{
 "cells": [
  {
   "cell_type": "code",
   "execution_count": 1,
   "id": "bc7b0e3b-e466-41f1-8248-43dff0076f07",
   "metadata": {
    "editable": true,
    "slideshow": {
     "slide_type": ""
    },
    "tags": []
   },
   "outputs": [],
   "source": [
    "import os\n",
    "\n",
    "os.chdir(\"..\")"
   ]
  },
  {
   "cell_type": "code",
   "execution_count": 59,
   "id": "8c5b6303-1b4a-470d-a138-aa4a52d4a999",
   "metadata": {},
   "outputs": [],
   "source": [
    "from problems import IntegerKnapsack\n",
    "\n",
    "from fastqaoa.ctypes import qaoa\n",
    "from fastqaoa.ctypes.optimize import optimize_qaoa_adam, optimize_qaoa_lbfgs\n",
    "from fastqaoa.params import interpolate\n",
    "\n",
    "from fastqaoa.ctypes.metrics import Metrics\n",
    "import numpy as np"
   ]
  },
  {
   "cell_type": "code",
   "execution_count": 3,
   "id": "b178bc3f-93a6-444d-804f-3d7460f25e1e",
   "metadata": {},
   "outputs": [],
   "source": [
    "prb = IntegerKnapsack(weights=[36.0, 22.0, 41.0, 2.0, 18.0, 9.0], costs=[2.0, 20.0, 34.0, 18.0, 36.0, 40.0], max_capacity=60, id=-1, n_qubits=6)"
   ]
  },
  {
   "cell_type": "code",
   "execution_count": 4,
   "id": "995b3f57-83bb-4324-bbce-ca67e4ae6b6d",
   "metadata": {},
   "outputs": [],
   "source": [
    "mprb = IntegerKnapsack.get_instances()[6][0]"
   ]
  },
  {
   "cell_type": "code",
   "execution_count": 5,
   "id": "85b9dcf2-86d6-4922-91ae-ca13045d1479",
   "metadata": {},
   "outputs": [
    {
     "data": {
      "text/plain": [
       "IntegerKnapsack(id=0, n_qubits=6, max_capacity=60, weights=array([56, 46, 44, 39,  7, 31]), costs=array([11,  0, 53, 30, 30, 55]))"
      ]
     },
     "execution_count": 5,
     "metadata": {},
     "output_type": "execute_result"
    }
   ],
   "source": [
    "mprb"
   ]
  },
  {
   "cell_type": "code",
   "execution_count": 6,
   "id": "fc98fe22-2365-4df9-bd92-e45e2ea752f8",
   "metadata": {},
   "outputs": [
    {
     "data": {
      "text/plain": [
       "IntegerKnapsack(id=-1, n_qubits=6, max_capacity=60, weights=[36.0, 22.0, 41.0, 2.0, 18.0, 9.0], costs=[2.0, 20.0, 34.0, 18.0, 36.0, 40.0])"
      ]
     },
     "execution_count": 6,
     "metadata": {},
     "output_type": "execute_result"
    }
   ],
   "source": [
    "prb"
   ]
  },
  {
   "cell_type": "code",
   "execution_count": 83,
   "id": "4a88324d-b955-419e-80d6-1e9906a26866",
   "metadata": {},
   "outputs": [],
   "source": [
    "ks = IntegerKnapsack.get_instances()[6][0]"
   ]
  },
  {
   "cell_type": "code",
   "execution_count": 84,
   "id": "4e7ef82f-4c54-47d9-9f1d-c3a4c5f9fcd8",
   "metadata": {},
   "outputs": [
    {
     "data": {
      "text/plain": [
       "array([11,  0, 53, 30, 30, 55])"
      ]
     },
     "execution_count": 84,
     "metadata": {},
     "output_type": "execute_result"
    }
   ],
   "source": [
    "ks.costs"
   ]
  },
  {
   "cell_type": "code",
   "execution_count": 85,
   "id": "13a7d8a5-e50e-4f54-8390-d2ca509c27f6",
   "metadata": {},
   "outputs": [
    {
     "data": {
      "text/plain": [
       "array([56, 46, 44, 39,  7, 31])"
      ]
     },
     "execution_count": 85,
     "metadata": {},
     "output_type": "execute_result"
    }
   ],
   "source": [
    "ks.weights"
   ]
  },
  {
   "cell_type": "code",
   "execution_count": 86,
   "id": "bce0cf7a-bea7-4d74-8cd3-5812ad3b23e9",
   "metadata": {},
   "outputs": [],
   "source": [
    "costs, weights = ks.diagonalized()\n",
    "dg = costs.mask(weights, 0, weights.GTE)\n",
    "dg = np.pi * dg / abs(dg.min_val)"
   ]
  },
  {
   "cell_type": "code",
   "execution_count": 87,
   "id": "4c4cb9ae-5b48-4b18-b7d3-ea3180196e52",
   "metadata": {},
   "outputs": [],
   "source": [
    "def get_energy(betas, gammas):\n",
    "    res = qaoa.qaoa(dg, betas, gammas).to_numpy()\n",
    "    probs = np.abs(res) ** 2\n",
    "    # print(probs)\n",
    "    return probs.dot(dg.to_numpy())"
   ]
  },
  {
   "cell_type": "code",
   "execution_count": 88,
   "id": "6f2e365a-08fa-46ac-91d6-5cd848d21391",
   "metadata": {},
   "outputs": [
    {
     "data": {
      "text/plain": [
       "-0.43705215392279734"
      ]
     },
     "execution_count": 88,
     "metadata": {},
     "output_type": "execute_result"
    }
   ],
   "source": [
    "get_energy([1], [1])"
   ]
  },
  {
   "cell_type": "code",
   "execution_count": 89,
   "id": "5ab0365f-62bf-4c04-bd51-d6a329e8eb06",
   "metadata": {},
   "outputs": [
    {
     "data": {
      "text/plain": [
       "(-0.3034736982444905,\n",
       " array([0.75984601, 0.39969466]),\n",
       " array([0.1859147 , 0.07191195]))"
      ]
     },
     "execution_count": 89,
     "metadata": {},
     "output_type": "execute_result"
    }
   ],
   "source": [
    "qaoa.grad_qaoa(dg, dg, [1., 2.], [4., 5.])"
   ]
  },
  {
   "cell_type": "code",
   "execution_count": 90,
   "id": "0c0178e3-a4be-4353-87a1-6fb549ca54da",
   "metadata": {},
   "outputs": [],
   "source": [
    "# res = optimize_qaoa_adam(dg, dg, [1], [1], maxiter=100, tol=1e-5)"
   ]
  },
  {
   "cell_type": "code",
   "execution_count": 91,
   "id": "eb25ad87-654b-492a-af19-5a26d1820e99",
   "metadata": {},
   "outputs": [],
   "source": [
    "# print(res)"
   ]
  },
  {
   "cell_type": "code",
   "execution_count": 93,
   "id": "3ae0acf3-0025-4195-879a-9c594fecef68",
   "metadata": {},
   "outputs": [],
   "source": [
    "# params = interpolate(2, res.betas, res.gammas)"
   ]
  },
  {
   "cell_type": "code",
   "execution_count": 94,
   "id": "543ddfec-dbab-4de4-a629-a38ca318326c",
   "metadata": {},
   "outputs": [],
   "source": [
    "# qaoa.grad_qaoa(dg, dg, *params)"
   ]
  },
  {
   "cell_type": "code",
   "execution_count": null,
   "id": "59f86bbb-34cd-44e5-a4d8-38c9b6254495",
   "metadata": {},
   "outputs": [],
   "source": []
  },
  {
   "cell_type": "code",
   "execution_count": 103,
   "id": "0766c8fb-6c02-4803-b192-37adb5510e25",
   "metadata": {
    "editable": true,
    "slideshow": {
     "slide_type": ""
    },
    "tags": []
   },
   "outputs": [
    {
     "name": "stdout",
     "output_type": "stream",
     "text": [
      "1\n",
      "LBFGSStatus.Success 10\n",
      "-0.4409824589870121\n",
      "2\n",
      "LBFGSStatus.Success 13\n",
      "-1.2950019274149298\n",
      "3\n",
      "LBFGSStatus.Success 22\n",
      "-1.9294464970409426\n",
      "4\n",
      "LBFGSStatus.Success 23\n",
      "-2.448572914568092\n",
      "5\n",
      "LBFGSStatus.Success 29\n",
      "-2.759112906210433\n",
      "6\n",
      "LBFGSStatus.Success 38\n",
      "-2.946315133433959\n",
      "7\n",
      "LBFGSStatus.Success 47\n",
      "-3.0289086549305595\n",
      "8\n",
      "LBFGSStatus.Success 91\n",
      "-3.0505724003855765\n",
      "9\n",
      "LBFGSStatus.Success 129\n",
      "-3.064899106479079\n",
      "10\n",
      "LBFGSStatus.Success 153\n",
      "-3.078812333134928\n",
      "11\n",
      "LBFGSStatus.Success 184\n",
      "-3.090152337654776\n",
      "12\n",
      "LBFGSStatus.Success 193\n",
      "-3.1003006231016617\n",
      "13\n",
      "LBFGSStatus.Success 247\n",
      "-3.1062743305949287\n",
      "14\n",
      "LBFGSStatus.Success 355\n",
      "-3.1085715806494907\n",
      "15\n",
      "LBFGSStatus.Success 574\n",
      "-3.109183344509973\n"
     ]
    }
   ],
   "source": [
    "params = [1], [1]\n",
    "for i in range(1, 16, 1):\n",
    "    print(i)\n",
    "    res = optimize_qaoa_lbfgs(dg, dg, *params)\n",
    "    print(res.status, res.it)\n",
    "    print(get_energy(res.betas, res.gammas))\n",
    "    params = interpolate(i+1, res.betas, res.gammas)\n",
    "    # print(params)\n",
    "    # print(qaoa.grad_qaoa(dg, dg, *params)[0])\n",
    "    # params = np.append(res.betas, 0.01), np.append(res.gammas, 0.01)"
   ]
  },
  {
   "cell_type": "code",
   "execution_count": 96,
   "id": "b13df28c-f08b-4e10-9d82-86f32457bb96",
   "metadata": {},
   "outputs": [],
   "source": [
    "params = np.append(res.betas, 0), np.append(res.gammas, 0)"
   ]
  },
  {
   "cell_type": "code",
   "execution_count": 97,
   "id": "afeb07ac-08fa-4933-aded-fb1cf471c212",
   "metadata": {},
   "outputs": [
    {
     "name": "stdout",
     "output_type": "stream",
     "text": [
      "-3.1091833479462347\n"
     ]
    }
   ],
   "source": [
    "print(get_energy(*params))"
   ]
  },
  {
   "cell_type": "code",
   "execution_count": 98,
   "id": "fa3e9419-0c3c-47f7-ab70-b1ac77ab0bfa",
   "metadata": {},
   "outputs": [],
   "source": [
    "sv = qaoa.qaoa(dg, *params)"
   ]
  },
  {
   "cell_type": "code",
   "execution_count": 113,
   "id": "9c678b89-88dd-4947-ac03-121115fb5633",
   "metadata": {},
   "outputs": [
    {
     "data": {
      "text/plain": [
       "{'energy': -3.109183337946235,\n",
       " 'approx_ratio': 0.9896837976093034,\n",
       " 'feas_ratio': 0.9999999999999984,\n",
       " 'feas_approx_ratio': 0.9896837976093049,\n",
       " 'p_opt': 0.5643752246857106,\n",
       " 'p_999': 0.5643752246857106,\n",
       " 'p_99': 0.5643752246857106,\n",
       " 'p_9': 0.9998824664299404,\n",
       " 'min_val': -3.141592653589793,\n",
       " 'rnd_val': -0.25236690985638593,\n",
       " 'max_val': 0.0}"
      ]
     },
     "execution_count": 113,
     "metadata": {},
     "output_type": "execute_result"
    }
   ],
   "source": [
    "Metrics.compute(sv, dg, weights > 0).dump()"
   ]
  },
  {
   "cell_type": "code",
   "execution_count": 109,
   "id": "3865a374-ef3b-44c1-9ed4-1bf60fe14d4b",
   "metadata": {},
   "outputs": [
    {
     "data": {
      "text/plain": [
       "array([1., 1., 1., 0., 1., 0., 0., 0., 1., 0., 0., 0., 0., 0., 0., 0., 1.,\n",
       "       0., 1., 0., 1., 0., 0., 0., 1., 0., 0., 0., 0., 0., 0., 0., 1., 0.,\n",
       "       0., 0., 0., 0., 0., 0., 0., 0., 0., 0., 0., 0., 0., 0., 1., 0., 0.,\n",
       "       0., 0., 0., 0., 0., 0., 0., 0., 0., 0., 0., 0., 0.])"
      ]
     },
     "execution_count": 109,
     "metadata": {},
     "output_type": "execute_result"
    }
   ],
   "source": [
    "(weights > 0).to_numpy()"
   ]
  },
  {
   "cell_type": "code",
   "execution_count": 112,
   "id": "fa43bbca-e78b-4422-bdcd-672ea267ccae",
   "metadata": {},
   "outputs": [
    {
     "data": {
      "text/plain": [
       "<fastqaoa.ctypes.diagonals.Diagonals at 0x136bdc1c0>"
      ]
     },
     "execution_count": 112,
     "metadata": {},
     "output_type": "execute_result"
    }
   ],
   "source": [
    "co"
   ]
  },
  {
   "cell_type": "code",
   "execution_count": null,
   "id": "5a006b2d-ef34-4c9d-9542-c5e57aa32e4c",
   "metadata": {},
   "outputs": [],
   "source": [
    "pri"
   ]
  }
 ],
 "metadata": {
  "kernelspec": {
   "display_name": "Python 3 (ipykernel)",
   "language": "python",
   "name": "python3"
  },
  "language_info": {
   "codemirror_mode": {
    "name": "ipython",
    "version": 3
   },
   "file_extension": ".py",
   "mimetype": "text/x-python",
   "name": "python",
   "nbconvert_exporter": "python",
   "pygments_lexer": "ipython3",
   "version": "3.9.18"
  }
 },
 "nbformat": 4,
 "nbformat_minor": 5
}
